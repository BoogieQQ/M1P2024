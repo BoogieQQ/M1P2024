{
 "cells": [
  {
   "cell_type": "code",
   "execution_count": 2,
   "id": "0e885ec9-35ee-472c-b02f-987bf32ddf01",
   "metadata": {},
   "outputs": [
    {
     "name": "stdout",
     "output_type": "stream",
     "text": [
      "The autoreload extension is already loaded. To reload it, use:\n",
      "  %reload_ext autoreload\n"
     ]
    }
   ],
   "source": [
    "import numpy as np\n",
    "import pandas as pd\n",
    "from sklearn.linear_model import LinearRegression, Lasso, ElasticNet, Ridge, BayesianRidge, ARDRegression\n",
    "from sklearn.model_selection import train_test_split\n",
    "from tqdm import tqdm\n",
    "import matplotlib.pyplot as plt\n",
    "from sklearn.metrics import r2_score\n",
    "from vpk import VPK\n",
    "from collections import defaultdict\n",
    "import seaborn as sns\n",
    "from vpk_bootstrap import VPK_bootstrap\n",
    "\n",
    "%load_ext autoreload\n",
    "%autoreload 2"
   ]
  },
  {
   "cell_type": "code",
   "execution_count": 3,
   "id": "67254d00-04d3-4402-9902-83f25c4334b5",
   "metadata": {},
   "outputs": [
    {
     "data": {
      "text/plain": [
       "(176, 94)"
      ]
     },
     "execution_count": 3,
     "metadata": {},
     "output_type": "execute_result"
    }
   ],
   "source": [
    "data = pd.read_excel('data/MgAgAs.xls')\n",
    "data.shape"
   ]
  },
  {
   "cell_type": "code",
   "execution_count": 5,
   "id": "652e021a-d89a-4d23-bd99-7905b44bb22e",
   "metadata": {},
   "outputs": [
    {
     "data": {
      "text/plain": [
       "((140, 92), (36, 92))"
      ]
     },
     "execution_count": 5,
     "metadata": {},
     "output_type": "execute_result"
    }
   ],
   "source": [
    "X_train, X_valid, y_train, y_valid = train_test_split(data.drop(columns=['Compound', 'a, A']).to_numpy(),\n",
    "                                                    data['a, A'].to_numpy(),\n",
    "                                                    train_size=0.8,\n",
    "                                                    random_state=42)\n",
    "X_train.shape, X_valid.shape"
   ]
  },
  {
   "cell_type": "code",
   "execution_count": 317,
   "id": "a0f51da0-30ba-469d-b71d-37b8e5ccda28",
   "metadata": {},
   "outputs": [
    {
     "data": {
      "text/plain": [
       "array([6.643 , 6.148 , 6.117 , 6.61  , 6.045 , 6.554 , 6.238 , 6.373 ,\n",
       "       6.415 , 6.262 , 6.553 , 6.747 , 6.719 , 6.088 , 6.246 , 5.883 ,\n",
       "       6.299 , 6.778 , 6.256 , 6.4558, 6.304 , 6.645 , 6.238 , 6.385 ,\n",
       "       6.368 , 6.135 , 5.958 , 6.76  , 5.941 , 6.676 , 6.624 , 6.391 ,\n",
       "       6.213 , 6.754 , 6.534 , 6.662 , 5.8971, 6.4194, 6.34  , 6.728 ,\n",
       "       6.21  , 6.148 , 6.694 , 6.246 , 6.068 , 6.1344, 6.614 , 6.168 ,\n",
       "       6.73  , 6.18  , 6.321 , 6.512 , 6.262 , 6.308 , 6.237 , 6.048 ,\n",
       "       6.495 , 6.218 , 6.729 , 6.616 , 6.65  , 5.957 , 6.66  , 6.419 ,\n",
       "       6.78  , 5.927 , 5.883 , 6.617 , 6.718 , 6.5   , 6.479 , 6.152 ,\n",
       "       6.574 , 6.508 , 6.47  , 6.4523, 5.8   , 5.912 , 6.594 , 6.253 ,\n",
       "       6.779 , 5.872 , 6.032 , 6.298 , 6.323 , 6.62  , 6.31  , 6.224 ,\n",
       "       6.4052, 5.935 , 6.179 , 6.54  , 6.261 , 6.247 , 6.66  , 6.564 ,\n",
       "       6.538 , 6.308 , 6.17  , 5.8823, 6.829 , 6.435 , 5.953 , 5.903 ,\n",
       "       6.698 , 6.411 , 6.64  , 6.566 , 6.145 , 6.065 , 6.2532, 6.158 ,\n",
       "       6.584 , 5.979 , 5.884 , 6.5316, 6.54  , 5.8819, 6.631 , 6.851 ,\n",
       "       6.32  , 6.74  , 5.939 , 5.816 , 6.825 , 6.191 , 6.797 , 6.454 ,\n",
       "       6.15  , 6.457 , 6.262 , 6.0381, 6.775 , 6.846 , 6.084 , 6.0677,\n",
       "       6.31  , 6.182 , 6.312 , 6.4973])"
      ]
     },
     "execution_count": 317,
     "metadata": {},
     "output_type": "execute_result"
    }
   ],
   "source": [
    "y_train"
   ]
  },
  {
   "cell_type": "code",
   "execution_count": 390,
   "id": "6ed63af7-873e-4ebb-ab37-7493bbcc34a6",
   "metadata": {},
   "outputs": [
    {
     "data": {
      "application/vnd.jupyter.widget-view+json": {
       "model_id": "f9ac5979ffae4d6488c48ae667057724",
       "version_major": 2,
       "version_minor": 0
      },
      "text/plain": [
       "  0%|          | 0/6274 [00:00<?, ?it/s]"
      ]
     },
     "metadata": {},
     "output_type": "display_data"
    },
    {
     "name": "stderr",
     "output_type": "stream",
     "text": [
      "IOStream.flush timed out\n"
     ]
    }
   ],
   "source": [
    "vpk_mean = VPK('mean', tau=0.0)\n",
    "vpk_mean.fit(X_train, y_train, X_train, y_train)"
   ]
  },
  {
   "cell_type": "code",
   "execution_count": 391,
   "id": "891941f8-1440-4315-bc94-d1f2cac3124b",
   "metadata": {},
   "outputs": [
    {
     "data": {
      "application/vnd.jupyter.widget-view+json": {
       "model_id": "68a9bfc947b541898051813cbfe800a9",
       "version_major": 2,
       "version_minor": 0
      },
      "text/plain": [
       "  0%|          | 0/6274 [00:00<?, ?it/s]"
      ]
     },
     "metadata": {},
     "output_type": "display_data"
    }
   ],
   "source": [
    "vpk_corr = VPK('corr', tau=0.0)\n",
    "vpk_corr.fit(X_train, y_train, X_train, y_train)"
   ]
  },
  {
   "cell_type": "code",
   "execution_count": 392,
   "id": "dc2e04ab-4b45-4f94-ae53-9d9360436dcd",
   "metadata": {},
   "outputs": [
    {
     "data": {
      "application/vnd.jupyter.widget-view+json": {
       "model_id": "30d53ea0de7b49b68eb2280fdff1cba8",
       "version_major": 2,
       "version_minor": 0
      },
      "text/plain": [
       "  0%|          | 0/6274 [00:00<?, ?it/s]"
      ]
     },
     "metadata": {},
     "output_type": "display_data"
    }
   ],
   "source": [
    "vpk_linear = VPK('linear', tau=0.0)\n",
    "vpk_linear.fit(X_train, y_train, X_train, y_train)"
   ]
  },
  {
   "cell_type": "code",
   "execution_count": 430,
   "id": "bd01cd6a-90c0-4416-ac42-67e2534fe657",
   "metadata": {},
   "outputs": [
    {
     "data": {
      "text/html": [
       "<style>#sk-container-id-14 {color: black;background-color: white;}#sk-container-id-14 pre{padding: 0;}#sk-container-id-14 div.sk-toggleable {background-color: white;}#sk-container-id-14 label.sk-toggleable__label {cursor: pointer;display: block;width: 100%;margin-bottom: 0;padding: 0.3em;box-sizing: border-box;text-align: center;}#sk-container-id-14 label.sk-toggleable__label-arrow:before {content: \"▸\";float: left;margin-right: 0.25em;color: #696969;}#sk-container-id-14 label.sk-toggleable__label-arrow:hover:before {color: black;}#sk-container-id-14 div.sk-estimator:hover label.sk-toggleable__label-arrow:before {color: black;}#sk-container-id-14 div.sk-toggleable__content {max-height: 0;max-width: 0;overflow: hidden;text-align: left;background-color: #f0f8ff;}#sk-container-id-14 div.sk-toggleable__content pre {margin: 0.2em;color: black;border-radius: 0.25em;background-color: #f0f8ff;}#sk-container-id-14 input.sk-toggleable__control:checked~div.sk-toggleable__content {max-height: 200px;max-width: 100%;overflow: auto;}#sk-container-id-14 input.sk-toggleable__control:checked~label.sk-toggleable__label-arrow:before {content: \"▾\";}#sk-container-id-14 div.sk-estimator input.sk-toggleable__control:checked~label.sk-toggleable__label {background-color: #d4ebff;}#sk-container-id-14 div.sk-label input.sk-toggleable__control:checked~label.sk-toggleable__label {background-color: #d4ebff;}#sk-container-id-14 input.sk-hidden--visually {border: 0;clip: rect(1px 1px 1px 1px);clip: rect(1px, 1px, 1px, 1px);height: 1px;margin: -1px;overflow: hidden;padding: 0;position: absolute;width: 1px;}#sk-container-id-14 div.sk-estimator {font-family: monospace;background-color: #f0f8ff;border: 1px dotted black;border-radius: 0.25em;box-sizing: border-box;margin-bottom: 0.5em;}#sk-container-id-14 div.sk-estimator:hover {background-color: #d4ebff;}#sk-container-id-14 div.sk-parallel-item::after {content: \"\";width: 100%;border-bottom: 1px solid gray;flex-grow: 1;}#sk-container-id-14 div.sk-label:hover label.sk-toggleable__label {background-color: #d4ebff;}#sk-container-id-14 div.sk-serial::before {content: \"\";position: absolute;border-left: 1px solid gray;box-sizing: border-box;top: 0;bottom: 0;left: 50%;z-index: 0;}#sk-container-id-14 div.sk-serial {display: flex;flex-direction: column;align-items: center;background-color: white;padding-right: 0.2em;padding-left: 0.2em;position: relative;}#sk-container-id-14 div.sk-item {position: relative;z-index: 1;}#sk-container-id-14 div.sk-parallel {display: flex;align-items: stretch;justify-content: center;background-color: white;position: relative;}#sk-container-id-14 div.sk-item::before, #sk-container-id-14 div.sk-parallel-item::before {content: \"\";position: absolute;border-left: 1px solid gray;box-sizing: border-box;top: 0;bottom: 0;left: 50%;z-index: -1;}#sk-container-id-14 div.sk-parallel-item {display: flex;flex-direction: column;z-index: 1;position: relative;background-color: white;}#sk-container-id-14 div.sk-parallel-item:first-child::after {align-self: flex-end;width: 50%;}#sk-container-id-14 div.sk-parallel-item:last-child::after {align-self: flex-start;width: 50%;}#sk-container-id-14 div.sk-parallel-item:only-child::after {width: 0;}#sk-container-id-14 div.sk-dashed-wrapped {border: 1px dashed gray;margin: 0 0.4em 0.5em 0.4em;box-sizing: border-box;padding-bottom: 0.4em;background-color: white;}#sk-container-id-14 div.sk-label label {font-family: monospace;font-weight: bold;display: inline-block;line-height: 1.2em;}#sk-container-id-14 div.sk-label-container {text-align: center;}#sk-container-id-14 div.sk-container {/* jupyter's `normalize.less` sets `[hidden] { display: none; }` but bootstrap.min.css set `[hidden] { display: none !important; }` so we also need the `!important` here to be able to override the default hidden behavior on the sphinx rendered scikit-learn.org. See: https://github.com/scikit-learn/scikit-learn/issues/21755 */display: inline-block !important;position: relative;}#sk-container-id-14 div.sk-text-repr-fallback {display: none;}</style><div id=\"sk-container-id-14\" class=\"sk-top-container\"><div class=\"sk-text-repr-fallback\"><pre>ARDRegression()</pre><b>In a Jupyter environment, please rerun this cell to show the HTML representation or trust the notebook. <br />On GitHub, the HTML representation is unable to render, please try loading this page with nbviewer.org.</b></div><div class=\"sk-container\" hidden><div class=\"sk-item\"><div class=\"sk-estimator sk-toggleable\"><input class=\"sk-toggleable__control sk-hidden--visually\" id=\"sk-estimator-id-14\" type=\"checkbox\" checked><label for=\"sk-estimator-id-14\" class=\"sk-toggleable__label sk-toggleable__label-arrow\">ARDRegression</label><div class=\"sk-toggleable__content\"><pre>ARDRegression()</pre></div></div></div></div></div>"
      ],
      "text/plain": [
       "ARDRegression()"
      ]
     },
     "execution_count": 430,
     "metadata": {},
     "output_type": "execute_result"
    }
   ],
   "source": [
    "ridge = Ridge()\n",
    "ridge.fit(X_train, y_train)\n",
    "\n",
    "lasso = Lasso()\n",
    "lasso.fit(X_train, y_train)\n",
    "\n",
    "elastic = ElasticNet()\n",
    "elastic.fit(X_train, y_train)\n",
    "\n",
    "bayesianRidge = BayesianRidge()\n",
    "bayesianRidge.fit(X_train, y_train)\n",
    "\n",
    "ardRegression = ARDRegression()\n",
    "ardRegression.fit(X_train, y_train)"
   ]
  },
  {
   "cell_type": "code",
   "execution_count": 424,
   "id": "d90c773c-bce0-4684-b047-99904b7fef85",
   "metadata": {},
   "outputs": [],
   "source": [
    "vpk_mean.set_tau(0., X_train, y_train)"
   ]
  },
  {
   "cell_type": "code",
   "execution_count": 425,
   "id": "9404b30a-03c3-4f5b-b637-84fdb697418e",
   "metadata": {},
   "outputs": [
    {
     "data": {
      "text/plain": [
       "(0.5655217880158279, 0.7938247378196697)"
      ]
     },
     "execution_count": 425,
     "metadata": {},
     "output_type": "execute_result"
    }
   ],
   "source": [
    "(r2_score(y_valid, vpk_mean.predict(X_valid)),\n",
    "np.corrcoef(y_valid, vpk_mean.predict(X_valid))[0, 1])"
   ]
  },
  {
   "cell_type": "code",
   "execution_count": 426,
   "id": "bffba38c-a562-402d-a3db-5b977e9e0d48",
   "metadata": {},
   "outputs": [],
   "source": [
    "vpk_corr.set_tau(0, X_train, y_train)"
   ]
  },
  {
   "cell_type": "code",
   "execution_count": 427,
   "id": "a91a3a78-aa33-487c-bc62-6f9448a06e2e",
   "metadata": {},
   "outputs": [
    {
     "data": {
      "text/plain": [
       "(0.5977315215229724, 0.8098694916793185)"
      ]
     },
     "execution_count": 427,
     "metadata": {},
     "output_type": "execute_result"
    }
   ],
   "source": [
    "(r2_score(y_valid, vpk_corr.predict(X_valid)),\n",
    "np.corrcoef(y_valid, vpk_corr.predict(X_valid))[0, 1])"
   ]
  },
  {
   "cell_type": "code",
   "execution_count": 428,
   "id": "27450edd-aec4-4205-9fa8-7b5f3b4e5c2e",
   "metadata": {},
   "outputs": [
    {
     "data": {
      "text/plain": [
       "(0.9527248114569771, 0.9765784118334274)"
      ]
     },
     "execution_count": 428,
     "metadata": {},
     "output_type": "execute_result"
    }
   ],
   "source": [
    "(r2_score(y_valid, vpk_linear.predict(X_valid)),\n",
    "np.corrcoef(y_valid, vpk_linear.predict(X_valid))[0, 1])"
   ]
  },
  {
   "cell_type": "code",
   "execution_count": 433,
   "id": "24056db5-0f74-4843-b4ef-3febdd828c5d",
   "metadata": {},
   "outputs": [
    {
     "name": "stderr",
     "output_type": "stream",
     "text": [
      "100%|█████████████████████████████████████████| 101/101 [02:41<00:00,  1.60s/it]\n"
     ]
    }
   ],
   "source": [
    "scores = []\n",
    "for tau in tqdm(np.linspace(0, 1, 101)):\n",
    "    vpk_corr.set_tau(tau,  X_train, y_train)\n",
    "    scores.append(r2_score(y_valid, vpk_corr.predict(X_valid)))"
   ]
  },
  {
   "cell_type": "code",
   "execution_count": 436,
   "id": "905ba95b-0752-474e-9faa-996ccb90b3a2",
   "metadata": {},
   "outputs": [
    {
     "data": {
      "text/plain": [
       "[]"
      ]
     },
     "execution_count": 436,
     "metadata": {},
     "output_type": "execute_result"
    },
    {
     "data": {
      "image/png": "[encoded data removed]",
      "text/plain": [
       "<Figure size 640x480 with 1 Axes>"
      ]
     },
     "metadata": {},
     "output_type": "display_data"
    }
   ],
   "source": [
    "ax = sns.barplot(x = np.linspace(0, 1, 101), y=scores)\n",
    "ax.set_ylim(0.58, 0.8)\n",
    "ax.set_xticks(np.arange(0, 101), labels=[round(e, 2) if i % 10 == 0 else '' for i, e in enumerate(np.linspace(0, 1, 101))])\n",
    "ax.set_title('Зависимость качества от параметра $\\\\tau$')\n",
    "ax.set_xlabel('$\\\\tau$')\n",
    "ax.set_ylabel('$r^2$')\n",
    "plt.savefig('pics/tau2.pdf')\n",
    "\n",
    "plt.plot()"
   ]
  },
  {
   "cell_type": "code",
   "execution_count": 423,
   "id": "ee1f149b-8866-492a-82a3-76b24d5893d7",
   "metadata": {},
   "outputs": [],
   "source": [
    "vpk_linear.set_tau(0,  X_train, y_train)"
   ]
  },
  {
   "cell_type": "code",
   "execution_count": 424,
   "id": "48b3bf1b-36bb-4fee-8e69-f456560367d2",
   "metadata": {},
   "outputs": [
    {
     "data": {
      "text/plain": [
       "(0.9527248114569771, 0.9765784118334274)"
      ]
     },
     "execution_count": 424,
     "metadata": {},
     "output_type": "execute_result"
    }
   ],
   "source": [
    "(r2_score(y_valid, vpk_linear.predict(X_valid)), \n",
    "np.corrcoef(y_valid, vpk_linear.predict(X_valid))[0, 1])"
   ]
  },
  {
   "cell_type": "code",
   "execution_count": 655,
   "id": "108914d6-e673-4a77-b543-e8a6f1da5c4a",
   "metadata": {},
   "outputs": [
    {
     "data": {
      "text/plain": [
       "array([ 2.61698778e-03,  2.73654839e-03, -4.54363387e-03, ...,\n",
       "        1.03316369e-03, -9.00233111e-05,  1.25671689e-03])"
      ]
     },
     "execution_count": 655,
     "metadata": {},
     "output_type": "execute_result"
    }
   ],
   "source": [
    "vpk_linear.head.coef_"
   ]
  },
  {
   "cell_type": "code",
   "execution_count": 653,
   "id": "c5394563-ccd8-4aad-b36f-1ca2bda339fc",
   "metadata": {},
   "outputs": [
    {
     "data": {
      "text/plain": [
       "0.24352460550378408"
      ]
     },
     "execution_count": 653,
     "metadata": {},
     "output_type": "execute_result"
    }
   ],
   "source": [
    "vpk_linear1.corr_coefs[vpk_linear1.head.coef_.argmax()]"
   ]
  },
  {
   "cell_type": "code",
   "execution_count": 425,
   "id": "340db2b9-6f3c-42fc-81a8-f95807501cdb",
   "metadata": {},
   "outputs": [
    {
     "data": {
      "text/plain": [
       "(0.9603040751826714, 0.9808898559319257)"
      ]
     },
     "execution_count": 425,
     "metadata": {},
     "output_type": "execute_result"
    }
   ],
   "source": [
    "(r2_score(y_valid, ridge.predict(X_valid)), \n",
    "np.corrcoef(y_valid, ridge.predict(X_valid))[0, 1])"
   ]
  },
  {
   "cell_type": "code",
   "execution_count": 426,
   "id": "cdac228e-68e5-44d7-aaba-6e699bad728f",
   "metadata": {},
   "outputs": [
    {
     "data": {
      "text/plain": [
       "(0.8426869397354733, 0.9224016185194197)"
      ]
     },
     "execution_count": 426,
     "metadata": {},
     "output_type": "execute_result"
    }
   ],
   "source": [
    "(r2_score(y_valid, lasso.predict(X_valid)), \n",
    "np.corrcoef(y_valid, lasso.predict(X_valid))[0, 1])"
   ]
  },
  {
   "cell_type": "code",
   "execution_count": 427,
   "id": "1e432443-b2d5-44f0-aa15-5d3fdd2a47b1",
   "metadata": {},
   "outputs": [
    {
     "data": {
      "text/plain": [
       "(0.8849349206544135, 0.9426568575055609)"
      ]
     },
     "execution_count": 427,
     "metadata": {},
     "output_type": "execute_result"
    }
   ],
   "source": [
    "(r2_score(y_valid, elastic.predict(X_valid)), \n",
    "np.corrcoef(y_valid, elastic.predict(X_valid))[0, 1])"
   ]
  },
  {
   "cell_type": "code",
   "execution_count": 431,
   "id": "dd6c96e5-6f9f-4b10-97c7-fcccd1bc5c1e",
   "metadata": {},
   "outputs": [
    {
     "data": {
      "text/plain": [
       "(0.9110981150574496, 0.9581442765415225)"
      ]
     },
     "execution_count": 431,
     "metadata": {},
     "output_type": "execute_result"
    }
   ],
   "source": [
    "(r2_score(y_valid, ardRegression.predict(X_valid)), \n",
    "np.corrcoef(y_valid, ardRegression.predict(X_valid))[0, 1])"
   ]
  },
  {
   "cell_type": "code",
   "execution_count": 429,
   "id": "dc79108c-7c12-419c-801b-7273b1bcf007",
   "metadata": {},
   "outputs": [
    {
     "data": {
      "text/plain": [
       "(0.9438197369762207, 0.9726531973698557)"
      ]
     },
     "execution_count": 429,
     "metadata": {},
     "output_type": "execute_result"
    }
   ],
   "source": [
    "(r2_score(y_valid, bayesianRidge.predict(X_valid)), \n",
    "np.corrcoef(y_valid, bayesianRidge.predict(X_valid))[0, 1])"
   ]
  },
  {
   "cell_type": "code",
   "execution_count": 505,
   "id": "7302c69e-0ab6-42f6-bfce-a0e131d38267",
   "metadata": {},
   "outputs": [],
   "source": [
    "d = defaultdict(int)\n",
    "for comb in vpk_linear1.ans:\n",
    "    d[len(comb)] += 1\n",
    "d = np.array(sorted(d.items(), key=lambda x: x[0]))"
   ]
  },
  {
   "cell_type": "code",
   "execution_count": 507,
   "id": "ff6e785d-1e43-4320-9983-c990704079e2",
   "metadata": {},
   "outputs": [
    {
     "data": {
      "text/plain": [
       "[]"
      ]
     },
     "execution_count": 507,
     "metadata": {},
     "output_type": "execute_result"
    },
    {
     "data": {
      "image/png": "[encoded data removed]",
      "text/plain": [
       "<Figure size 640x480 with 1 Axes>"
      ]
     },
     "metadata": {},
     "output_type": "display_data"
    }
   ],
   "source": [
    "ax = sns.barplot(x = d[:, 0], y=d[:, 1])\n",
    "ax.bar_label(ax.containers[0], fontsize=10);\n",
    "ax.set_title('Частотность длин выпуклых комбинаций')\n",
    "ax.set_xlabel('Длина комбинации')\n",
    "ax.set_ylabel('Кол-во')\n",
    "plt.savefig('pics/vpk_lens2.pdf')\n",
    "plt.plot()"
   ]
  },
  {
   "cell_type": "code",
   "execution_count": 508,
   "id": "1a1fff9f-a3dd-463f-95ea-dcf893e6d75b",
   "metadata": {},
   "outputs": [
    {
     "data": {
      "image/png": "[encoded data removed]",
      "text/plain": [
       "<Figure size 640x480 with 1 Axes>"
      ]
     },
     "metadata": {},
     "output_type": "display_data"
    }
   ],
   "source": [
    "ax = sns.histplot(vpk_linear1.corr_coefs, bins=50)\n",
    "ax.set_title('Распределение коэффициентов корреляции комбинаций')\n",
    "ax.set_xlabel('Корреляция Пирсона')\n",
    "ax.set_ylabel('Кол-во')\n",
    "plt.savefig('pics/cor_coef2.pdf')\n",
    "plt.show()"
   ]
  },
  {
   "cell_type": "code",
   "execution_count": 373,
   "id": "ece72553-f94b-4624-ac48-43de3791c8b5",
   "metadata": {},
   "outputs": [
    {
     "data": {
      "text/plain": [
       "(92, 100)"
      ]
     },
     "execution_count": 373,
     "metadata": {},
     "output_type": "execute_result"
    }
   ],
   "source": [
    "data1 = pd.read_excel('data/task519.xls')\n",
    "data1.shape"
   ]
  },
  {
   "cell_type": "code",
   "execution_count": 446,
   "id": "fa34d17b-6add-4a7f-bb3b-b3723bf968a7",
   "metadata": {},
   "outputs": [
    {
     "data": {
      "text/plain": [
       "((73, 98), (19, 98))"
      ]
     },
     "execution_count": 446,
     "metadata": {},
     "output_type": "execute_result"
    }
   ],
   "source": [
    "X_train1, X_valid1, y_train1, y_valid1 = train_test_split(data1.drop(columns=['Compound', 'c, A']).to_numpy(),\n",
    "                                                    data1['c, A'].to_numpy(),\n",
    "                                                    train_size=0.8,\n",
    "                                                    random_state=42)\n",
    "X_train1.shape, X_valid1.shape"
   ]
  },
  {
   "cell_type": "code",
   "execution_count": 447,
   "id": "3a1fa0dd-9739-4230-9389-c28f36329c42",
   "metadata": {},
   "outputs": [
    {
     "data": {
      "application/vnd.jupyter.widget-view+json": {
       "model_id": "51af09b87dd746e89c9fcdf74276a3a3",
       "version_major": 2,
       "version_minor": 0
      },
      "text/plain": [
       "  0%|          | 0/7758 [00:00<?, ?it/s]"
      ]
     },
     "metadata": {},
     "output_type": "display_data"
    }
   ],
   "source": [
    "vpk_linear1 = VPK('linear')\n",
    "vpk_linear1.fit(X_train1, y_train1, X_train1, y_train1)"
   ]
  },
  {
   "cell_type": "code",
   "execution_count": 448,
   "id": "c9eb12d6-0a13-47c8-b192-037dcc5cf182",
   "metadata": {},
   "outputs": [
    {
     "data": {
      "application/vnd.jupyter.widget-view+json": {
       "model_id": "bae8eece282a4b9c8ef55d65cf5ffcd1",
       "version_major": 2,
       "version_minor": 0
      },
      "text/plain": [
       "  0%|          | 0/7758 [00:00<?, ?it/s]"
      ]
     },
     "metadata": {},
     "output_type": "display_data"
    }
   ],
   "source": [
    "vpk_mean1 = VPK('mean', tau=0)\n",
    "vpk_mean1.fit(X_train1, y_train1, X_train1, y_train1)"
   ]
  },
  {
   "cell_type": "code",
   "execution_count": 449,
   "id": "76b5fb15-3b3e-4a31-8ee6-515c649a207b",
   "metadata": {},
   "outputs": [
    {
     "data": {
      "application/vnd.jupyter.widget-view+json": {
       "model_id": "ab266ca3fe5442538148ced7ec77173a",
       "version_major": 2,
       "version_minor": 0
      },
      "text/plain": [
       "  0%|          | 0/7758 [00:00<?, ?it/s]"
      ]
     },
     "metadata": {},
     "output_type": "display_data"
    }
   ],
   "source": [
    "vpk_corr1 = VPK('corr', tau=0)\n",
    "vpk_corr1.fit(X_train1, y_train1, X_train1, y_train1)"
   ]
  },
  {
   "cell_type": "code",
   "execution_count": 450,
   "id": "7d08665e-a8c7-48d0-9534-d5cd2cafc068",
   "metadata": {},
   "outputs": [
    {
     "data": {
      "text/plain": [
       "34165"
      ]
     },
     "execution_count": 450,
     "metadata": {},
     "output_type": "execute_result"
    }
   ],
   "source": [
    "len(vpk_linear1.corr_coefs[vpk_corr1.corr_coefs>0.9])"
   ]
  },
  {
   "cell_type": "code",
   "execution_count": 451,
   "id": "98cf0ecb-ce41-46fc-bf92-05fea69cb4be",
   "metadata": {},
   "outputs": [
    {
     "name": "stderr",
     "output_type": "stream",
     "text": [
      "/Users/nikto/miniconda3/lib/python3.10/site-packages/sklearn/linear_model/_coordinate_descent.py:631: ConvergenceWarning: Objective did not converge. You might want to increase the number of iterations, check the scale of the features or consider increasing regularisation. Duality gap: 1.139e-03, tolerance: 1.103e-03\n",
      "  model = cd_fast.enet_coordinate_descent(\n"
     ]
    },
    {
     "data": {
      "text/html": [
       "<style>#sk-container-id-15 {color: black;background-color: white;}#sk-container-id-15 pre{padding: 0;}#sk-container-id-15 div.sk-toggleable {background-color: white;}#sk-container-id-15 label.sk-toggleable__label {cursor: pointer;display: block;width: 100%;margin-bottom: 0;padding: 0.3em;box-sizing: border-box;text-align: center;}#sk-container-id-15 label.sk-toggleable__label-arrow:before {content: \"▸\";float: left;margin-right: 0.25em;color: #696969;}#sk-container-id-15 label.sk-toggleable__label-arrow:hover:before {color: black;}#sk-container-id-15 div.sk-estimator:hover label.sk-toggleable__label-arrow:before {color: black;}#sk-container-id-15 div.sk-toggleable__content {max-height: 0;max-width: 0;overflow: hidden;text-align: left;background-color: #f0f8ff;}#sk-container-id-15 div.sk-toggleable__content pre {margin: 0.2em;color: black;border-radius: 0.25em;background-color: #f0f8ff;}#sk-container-id-15 input.sk-toggleable__control:checked~div.sk-toggleable__content {max-height: 200px;max-width: 100%;overflow: auto;}#sk-container-id-15 input.sk-toggleable__control:checked~label.sk-toggleable__label-arrow:before {content: \"▾\";}#sk-container-id-15 div.sk-estimator input.sk-toggleable__control:checked~label.sk-toggleable__label {background-color: #d4ebff;}#sk-container-id-15 div.sk-label input.sk-toggleable__control:checked~label.sk-toggleable__label {background-color: #d4ebff;}#sk-container-id-15 input.sk-hidden--visually {border: 0;clip: rect(1px 1px 1px 1px);clip: rect(1px, 1px, 1px, 1px);height: 1px;margin: -1px;overflow: hidden;padding: 0;position: absolute;width: 1px;}#sk-container-id-15 div.sk-estimator {font-family: monospace;background-color: #f0f8ff;border: 1px dotted black;border-radius: 0.25em;box-sizing: border-box;margin-bottom: 0.5em;}#sk-container-id-15 div.sk-estimator:hover {background-color: #d4ebff;}#sk-container-id-15 div.sk-parallel-item::after {content: \"\";width: 100%;border-bottom: 1px solid gray;flex-grow: 1;}#sk-container-id-15 div.sk-label:hover label.sk-toggleable__label {background-color: #d4ebff;}#sk-container-id-15 div.sk-serial::before {content: \"\";position: absolute;border-left: 1px solid gray;box-sizing: border-box;top: 0;bottom: 0;left: 50%;z-index: 0;}#sk-container-id-15 div.sk-serial {display: flex;flex-direction: column;align-items: center;background-color: white;padding-right: 0.2em;padding-left: 0.2em;position: relative;}#sk-container-id-15 div.sk-item {position: relative;z-index: 1;}#sk-container-id-15 div.sk-parallel {display: flex;align-items: stretch;justify-content: center;background-color: white;position: relative;}#sk-container-id-15 div.sk-item::before, #sk-container-id-15 div.sk-parallel-item::before {content: \"\";position: absolute;border-left: 1px solid gray;box-sizing: border-box;top: 0;bottom: 0;left: 50%;z-index: -1;}#sk-container-id-15 div.sk-parallel-item {display: flex;flex-direction: column;z-index: 1;position: relative;background-color: white;}#sk-container-id-15 div.sk-parallel-item:first-child::after {align-self: flex-end;width: 50%;}#sk-container-id-15 div.sk-parallel-item:last-child::after {align-self: flex-start;width: 50%;}#sk-container-id-15 div.sk-parallel-item:only-child::after {width: 0;}#sk-container-id-15 div.sk-dashed-wrapped {border: 1px dashed gray;margin: 0 0.4em 0.5em 0.4em;box-sizing: border-box;padding-bottom: 0.4em;background-color: white;}#sk-container-id-15 div.sk-label label {font-family: monospace;font-weight: bold;display: inline-block;line-height: 1.2em;}#sk-container-id-15 div.sk-label-container {text-align: center;}#sk-container-id-15 div.sk-container {/* jupyter's `normalize.less` sets `[hidden] { display: none; }` but bootstrap.min.css set `[hidden] { display: none !important; }` so we also need the `!important` here to be able to override the default hidden behavior on the sphinx rendered scikit-learn.org. See: https://github.com/scikit-learn/scikit-learn/issues/21755 */display: inline-block !important;position: relative;}#sk-container-id-15 div.sk-text-repr-fallback {display: none;}</style><div id=\"sk-container-id-15\" class=\"sk-top-container\"><div class=\"sk-text-repr-fallback\"><pre>ARDRegression()</pre><b>In a Jupyter environment, please rerun this cell to show the HTML representation or trust the notebook. <br />On GitHub, the HTML representation is unable to render, please try loading this page with nbviewer.org.</b></div><div class=\"sk-container\" hidden><div class=\"sk-item\"><div class=\"sk-estimator sk-toggleable\"><input class=\"sk-toggleable__control sk-hidden--visually\" id=\"sk-estimator-id-15\" type=\"checkbox\" checked><label for=\"sk-estimator-id-15\" class=\"sk-toggleable__label sk-toggleable__label-arrow\">ARDRegression</label><div class=\"sk-toggleable__content\"><pre>ARDRegression()</pre></div></div></div></div></div>"
      ],
      "text/plain": [
       "ARDRegression()"
      ]
     },
     "execution_count": 451,
     "metadata": {},
     "output_type": "execute_result"
    }
   ],
   "source": [
    "ridge1 = Ridge()\n",
    "ridge1.fit(X_train1, y_train1)\n",
    "\n",
    "lasso1 = Lasso()\n",
    "lasso1.fit(X_train1, y_train1)\n",
    "\n",
    "elastic1 = ElasticNet()\n",
    "elastic1.fit(X_train1, y_train1)\n",
    "\n",
    "bayesianRidge1 = BayesianRidge()\n",
    "bayesianRidge1.fit(X_train1, y_train1)\n",
    "\n",
    "ardRegression1 = ARDRegression()\n",
    "ardRegression1.fit(X_train1, y_train1)"
   ]
  },
  {
   "cell_type": "code",
   "execution_count": 452,
   "id": "99873b3c-16d2-458a-9a51-6a4ea01585f0",
   "metadata": {},
   "outputs": [
    {
     "data": {
      "text/plain": [
       "(0.8993016791000259, 0.9488888020990199)"
      ]
     },
     "execution_count": 452,
     "metadata": {},
     "output_type": "execute_result"
    }
   ],
   "source": [
    "(r2_score(y_valid1, vpk_mean1.predict(X_valid1)),\n",
    "np.corrcoef(y_valid1, vpk_mean1.predict(X_valid1))[0, 1])"
   ]
  },
  {
   "cell_type": "code",
   "execution_count": 453,
   "id": "183f3551-45ea-459b-809b-a5694bb6e93f",
   "metadata": {},
   "outputs": [
    {
     "data": {
      "text/plain": [
       "(0.8815205163996962, 0.9389344900165661)"
      ]
     },
     "execution_count": 453,
     "metadata": {},
     "output_type": "execute_result"
    }
   ],
   "source": [
    "(r2_score(y_valid1, vpk_corr1.predict(X_valid1)),\n",
    "np.corrcoef(y_valid1, vpk_corr1.predict(X_valid1))[0, 1])"
   ]
  },
  {
   "cell_type": "code",
   "execution_count": 454,
   "id": "4d01f483-411e-4a85-bdbc-8b6903587c00",
   "metadata": {},
   "outputs": [
    {
     "data": {
      "text/plain": [
       "(0.9613236900099892, 0.9813703661561222)"
      ]
     },
     "execution_count": 454,
     "metadata": {},
     "output_type": "execute_result"
    }
   ],
   "source": [
    "(r2_score(y_valid1, vpk_linear1.predict(X_valid1)),\n",
    "np.corrcoef(y_valid1, vpk_linear1.predict(X_valid1))[0, 1])"
   ]
  },
  {
   "cell_type": "code",
   "execution_count": 455,
   "id": "6685218e-c0c5-4a59-ae05-efe8b7674e52",
   "metadata": {},
   "outputs": [
    {
     "data": {
      "text/plain": [
       "(0.9610577602887067, 0.9810225893824458)"
      ]
     },
     "execution_count": 455,
     "metadata": {},
     "output_type": "execute_result"
    }
   ],
   "source": [
    "(r2_score(y_valid1, ridge1.predict(X_valid1)),\n",
    "np.corrcoef(y_valid1, ridge1.predict(X_valid1))[0, 1])"
   ]
  },
  {
   "cell_type": "code",
   "execution_count": 456,
   "id": "f5a205f7-1875-4700-820f-ddad2fd9f713",
   "metadata": {},
   "outputs": [
    {
     "data": {
      "text/plain": [
       "(0.9492390769243249, 0.9749719261114822)"
      ]
     },
     "execution_count": 456,
     "metadata": {},
     "output_type": "execute_result"
    }
   ],
   "source": [
    "(r2_score(y_valid1, lasso1.predict(X_valid1)),\n",
    "np.corrcoef(y_valid1, lasso1.predict(X_valid1))[0, 1])"
   ]
  },
  {
   "cell_type": "code",
   "execution_count": 457,
   "id": "0e2ebadd-0d82-4f4f-b814-9dd95077eae2",
   "metadata": {},
   "outputs": [
    {
     "data": {
      "text/plain": [
       "(0.9527384579637779, 0.976637191963663)"
      ]
     },
     "execution_count": 457,
     "metadata": {},
     "output_type": "execute_result"
    }
   ],
   "source": [
    "(r2_score(y_valid1, elsatic1.predict(X_valid1)),\n",
    "np.corrcoef(y_valid1, elsatic1.predict(X_valid1))[0, 1])"
   ]
  },
  {
   "cell_type": "code",
   "execution_count": 458,
   "id": "729d50bd-7d29-4037-b7cd-4d62e5852c4f",
   "metadata": {},
   "outputs": [
    {
     "data": {
      "text/plain": [
       "(0.9626908508316079, 0.9821881530304801)"
      ]
     },
     "execution_count": 458,
     "metadata": {},
     "output_type": "execute_result"
    }
   ],
   "source": [
    "(r2_score(y_valid1, ardRegression1.predict(X_valid1)), \n",
    "np.corrcoef(y_valid1, ardRegression1.predict(X_valid1))[0, 1])"
   ]
  },
  {
   "cell_type": "code",
   "execution_count": 459,
   "id": "79c22110-9d82-44ca-abd7-00483e8e0283",
   "metadata": {},
   "outputs": [
    {
     "data": {
      "text/plain": [
       "(0.9623971064677439, 0.9821522692173137)"
      ]
     },
     "execution_count": 459,
     "metadata": {},
     "output_type": "execute_result"
    }
   ],
   "source": [
    "(r2_score(y_valid1, bayesianRidge1.predict(X_valid1)), \n",
    "np.corrcoef(y_valid1, bayesianRidge1.predict(X_valid1))[0, 1])"
   ]
  },
  {
   "cell_type": "code",
   "execution_count": 593,
   "id": "557790f7-f53c-49ed-bf13-9cf3197a9d1e",
   "metadata": {},
   "outputs": [],
   "source": [
    "a = np.array([0.1,0.6,0.3])\n",
    "b = np.array([0.2,0.3,0.5])"
   ]
  },
  {
   "cell_type": "code",
   "execution_count": 615,
   "id": "46f0dd21-509a-453d-9da2-55ba0d77b262",
   "metadata": {},
   "outputs": [],
   "source": [
    "def sum_divakar2(a):\n",
    "    def left_sum(a):\n",
    "        n = len(a)\n",
    "        N = 2*n-1\n",
    "        p = np.zeros((n,n),dtype=a.dtype)\n",
    "        ap = np.concatenate((a,p),axis=1)\n",
    "        return ap.ravel()[:n*N].reshape(n,-1).sum(0)\n",
    "\n",
    "    return left_sum(a)"
   ]
  },
  {
   "cell_type": "code",
   "execution_count": 623,
   "id": "02163e31-0607-40a9-ae61-3aca01fc952d",
   "metadata": {},
   "outputs": [
    {
     "data": {
      "text/plain": [
       "array([[0.02, 0.12, 0.06],\n",
       "       [0.03, 0.18, 0.09],\n",
       "       [0.05, 0.3 , 0.15]])"
      ]
     },
     "execution_count": 623,
     "metadata": {},
     "output_type": "execute_result"
    }
   ],
   "source": [
    "(a[None, :] * b[:, None]) / (a[None, :] * b[:, None]).sum()"
   ]
  },
  {
   "cell_type": "code",
   "execution_count": 624,
   "id": "2dd77e07-dc5e-4f67-a87f-f02356723f64",
   "metadata": {},
   "outputs": [
    {
     "data": {
      "text/plain": [
       "array([0.02, 0.15, 0.29, 0.39, 0.15])"
      ]
     },
     "execution_count": 624,
     "metadata": {},
     "output_type": "execute_result"
    }
   ],
   "source": [
    "sum_divakar2((a[None, :] * b[:, None]) / (a[None, :] * b[:, None]).sum())"
   ]
  },
  {
   "cell_type": "code",
   "execution_count": 638,
   "id": "bedcbb15-4690-42ef-a158-ee0401ad0ffb",
   "metadata": {},
   "outputs": [
    {
     "data": {
      "text/plain": [
       "array([[0.02, 0.12, 0.06],\n",
       "       [0.03, 0.18, 0.09],\n",
       "       [0.05, 0.3 , 0.15]])"
      ]
     },
     "execution_count": 638,
     "metadata": {},
     "output_type": "execute_result"
    }
   ],
   "source": [
    "np.exp(np.log(a[None, :]) + np.log(b[:, None])) / np.exp(np.log(a[None, :]) + np.log(b[:, None])).sum()"
   ]
  },
  {
   "cell_type": "code",
   "execution_count": 630,
   "id": "e48bfab5-9871-4f4b-8a65-9bd81f526a27",
   "metadata": {},
   "outputs": [
    {
     "data": {
      "text/plain": [
       "array([0.17331444, 0.24928519, 0.33333333, 0.1600189 , 0.08404815])"
      ]
     },
     "execution_count": 630,
     "metadata": {},
     "output_type": "execute_result"
    }
   ],
   "source": [
    "sum_divakar2(((np.log(a[None, :]) + np.log(b[:, None])) / (np.log(a[None, :]) + np.log(b[:, None])).sum()))"
   ]
  },
  {
   "cell_type": "code",
   "execution_count": 609,
   "id": "94cfd4bd-30d3-455f-bab1-c75d4f8100fb",
   "metadata": {},
   "outputs": [],
   "source": [
    "a_sample = np.random.choice([0, 1, 2], 1000_000, p=a)\n",
    "b_sample = np.random.choice([0,1,2], 1000_000, p=b)\n",
    "c_sample = sorted(a_sample + b_sample)\n",
    "v, counts = np.unique(c_sample, return_counts=True)"
   ]
  },
  {
   "cell_type": "code",
   "execution_count": 610,
   "id": "71f6d3ff-12d7-4a10-8761-6b025dca850b",
   "metadata": {},
   "outputs": [
    {
     "data": {
      "text/plain": [
       "(array([0, 1, 2, 3, 4]), array([ 20095, 150058, 290022, 389286, 150539]))"
      ]
     },
     "execution_count": 610,
     "metadata": {},
     "output_type": "execute_result"
    }
   ],
   "source": [
    "v, counts"
   ]
  },
  {
   "cell_type": "code",
   "execution_count": 604,
   "id": "c5d36d0f-cb09-44fe-9c77-815b41d1068c",
   "metadata": {},
   "outputs": [
    {
     "data": {
      "text/plain": [
       "array([0.01953, 0.15059, 0.29097, 0.38894, 0.14997])"
      ]
     },
     "execution_count": 604,
     "metadata": {},
     "output_type": "execute_result"
    }
   ],
   "source": [
    "counts/100_000"
   ]
  },
  {
   "cell_type": "code",
   "execution_count": 611,
   "id": "3b084b05-8797-47b0-9e3f-896437f29c98",
   "metadata": {},
   "outputs": [
    {
     "data": {
      "text/plain": [
       "array([0.020095, 0.150058, 0.290022, 0.389286, 0.150539])"
      ]
     },
     "execution_count": 611,
     "metadata": {},
     "output_type": "execute_result"
    }
   ],
   "source": [
    "counts/1000_000"
   ]
  },
  {
   "cell_type": "code",
   "execution_count": 621,
   "id": "83e3ec16-6277-4bd1-8dac-68de2391eb03",
   "metadata": {},
   "outputs": [
    {
     "data": {
      "text/plain": [
       "array([], dtype=float64)"
      ]
     },
     "execution_count": 621,
     "metadata": {},
     "output_type": "execute_result"
    }
   ],
   "source": [
    "a[:-0]"
   ]
  },
  {
   "cell_type": "code",
   "execution_count": null,
   "id": "08ea13b8-e3c0-4405-9e6d-8bc3aea87a93",
   "metadata": {},
   "outputs": [],
   "source": []
  }
 ],
 "metadata": {
  "kernelspec": {
   "display_name": "Python 3 (ipykernel)",
   "language": "python",
   "name": "python3"
  },
  "language_info": {
   "codemirror_mode": {
    "name": "ipython",
    "version": 3
   },
   "file_extension": ".py",
   "mimetype": "text/x-python",
   "name": "python",
   "nbconvert_exporter": "python",
   "pygments_lexer": "ipython3",
   "version": "3.10.9"
  }
 },
 "nbformat": 4,
 "nbformat_minor": 5
}
